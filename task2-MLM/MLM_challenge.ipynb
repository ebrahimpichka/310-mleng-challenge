{
  "cells": [
    {
      "attachments": {},
      "cell_type": "markdown",
      "metadata": {
        "id": "T7TUjOOgfvoT"
      },
      "source": [
        "# 310 ML Eng. Challenge - Task 2 - Masked Language Modelling\n",
        "\n",
        "- **Task specification**:\n",
        "    - Masked Language Modelling\n",
        "    - Datacet: WikiText2\n",
        "    - Metric: perplexity\n",
        " \n",
        "---\n",
        "\n",
        "- **Approach**:\n",
        "    - Framework: PyTorch\n",
        "    - Model used: Transformer (Encoder-only)"
      ]
    },
    {
      "cell_type": "code",
      "execution_count": 1,
      "metadata": {
        "id": "ow-maGq4af1O"
      },
      "outputs": [],
      "source": [
        "import math\n",
        "import os\n",
        "from tempfile import TemporaryDirectory\n",
        "from typing import Tuple\n",
        "\n",
        "import torch\n",
        "from torch import nn, Tensor\n",
        "import torch.nn.functional as F\n",
        "from torch.nn import TransformerEncoder, TransformerEncoderLayer\n",
        "from torch.utils.data import dataset, DataLoader"
      ]
    },
    {
      "cell_type": "code",
      "execution_count": 2,
      "metadata": {
        "id": "dLiY6Rv7Mny9"
      },
      "outputs": [],
      "source": [
        "%matplotlib inline"
      ]
    },
    {
      "cell_type": "code",
      "execution_count": 3,
      "metadata": {
        "id": "ZMo5V3w3MnzK"
      },
      "outputs": [],
      "source": [
        "class PositionalEncoding(nn.Module):\n",
        "\n",
        "    def __init__(self, d_model: int, dropout: float = 0.1, max_len: int = 5000):\n",
        "        super().__init__()\n",
        "        self.dropout = nn.Dropout(p=dropout)\n",
        "\n",
        "        position = torch.arange(max_len).unsqueeze(1)\n",
        "        div_term = torch.exp(torch.arange(0, d_model, 2) * (-math.log(10000.0) / d_model))\n",
        "        pe = torch.zeros(max_len, 1, d_model)\n",
        "        pe[:, 0, 0::2] = torch.sin(position * div_term)\n",
        "        pe[:, 0, 1::2] = torch.cos(position * div_term)\n",
        "        self.register_buffer('pe', pe)\n",
        "\n",
        "    def forward(self, x: Tensor) -> Tensor:\n",
        "        \"\"\"\n",
        "        Args:\n",
        "            x: Tensor, shape [seq_len, batch_size, embedding_dim]\n",
        "        \"\"\"\n",
        "        x = x + self.pe[:x.size(0)]\n",
        "        return self.dropout(x)"
      ]
    },
    {
      "cell_type": "code",
      "execution_count": 4,
      "metadata": {
        "id": "TFAl51mVMnzI"
      },
      "outputs": [],
      "source": [
        "class TransformerModel(nn.Module):\n",
        "\n",
        "    def __init__(self, ntoken: int, d_model: int, nhead: int, d_hid: int,\n",
        "                 nlayers: int, dropout: float = 0.5):\n",
        "        super().__init__()\n",
        "        self.model_type = 'Transformer'\n",
        "        self.pos_encoder = PositionalEncoding(d_model, dropout)\n",
        "        encoder_layers = TransformerEncoderLayer(d_model, nhead, d_hid, dropout)\n",
        "        self.transformer_encoder = TransformerEncoder(encoder_layers, nlayers)\n",
        "        self.encoder = nn.Embedding(ntoken, d_model)\n",
        "        self.d_model = d_model\n",
        "        self.decoder = nn.Linear(d_model, ntoken)\n",
        "\n",
        "        self.init_weights()\n",
        "\n",
        "    def init_weights(self) -> None:\n",
        "        initrange = 0.1\n",
        "        self.encoder.weight.data.uniform_(-initrange, initrange)\n",
        "        self.decoder.bias.data.zero_()\n",
        "        self.decoder.weight.data.uniform_(-initrange, initrange)\n",
        "\n",
        "    def forward(self, src: Tensor, src_mask: Tensor) -> Tensor:\n",
        "        \"\"\"\n",
        "        Args:\n",
        "            src: Tensor, shape [seq_len, batch_size]\n",
        "            src_mask: Tensor, shape [seq_len, seq_len]\n",
        "\n",
        "        Returns:\n",
        "            output Tensor of shape [seq_len, batch_size, ntoken]\n",
        "        \"\"\"\n",
        "        src = self.encoder(src) * math.sqrt(self.d_model)\n",
        "        src = self.pos_encoder(src)\n",
        "        output = self.transformer_encoder(src, src_mask)\n",
        "        output = self.decoder(output)\n",
        "        return output\n",
        "\n",
        "\n",
        "def generate_square_subsequent_mask(sz: int) -> Tensor:\n",
        "    \"\"\"Generates an upper-triangular matrix of -inf, with zeros on diag.\"\"\"\n",
        "    return torch.triu(torch.ones(sz, sz) * float('-inf'), diagonal=1)"
      ]
    },
    {
      "cell_type": "markdown",
      "metadata": {
        "id": "rvlS3SSwBTvK"
      },
      "source": [
        "# 2- Change the task from autoregressive to predict the masked words. You can mask 10% of the words at random."
      ]
    },
    {
      "cell_type": "markdown",
      "metadata": {
        "id": "CDOlmQo2MnzL"
      },
      "source": [
        "## Load and batch data\n",
        "\n",
        "\n"
      ]
    },
    {
      "cell_type": "code",
      "execution_count": 5,
      "metadata": {
        "colab": {
          "base_uri": "https://localhost:8080/"
        },
        "id": "e6LGJRCkMnzM",
        "outputId": "42573adc-019f-4cd6-a36a-5fdb847c03bb"
      },
      "outputs": [
        {
          "name": "stdout",
          "output_type": "stream",
          "text": [
            "Looking in indexes: https://pypi.org/simple, https://us-python.pkg.dev/colab-wheels/public/simple/\n",
            "Requirement already satisfied: torchdata in /usr/local/lib/python3.9/dist-packages (0.5.1)\n",
            "Requirement already satisfied: requests in /usr/local/lib/python3.9/dist-packages (from torchdata) (2.25.1)\n",
            "Requirement already satisfied: portalocker>=2.0.0 in /usr/local/lib/python3.9/dist-packages (from torchdata) (2.7.0)\n",
            "Requirement already satisfied: torch==1.13.1 in /usr/local/lib/python3.9/dist-packages (from torchdata) (1.13.1+cu116)\n",
            "Requirement already satisfied: urllib3>=1.25 in /usr/local/lib/python3.9/dist-packages (from torchdata) (1.26.14)\n",
            "Requirement already satisfied: typing-extensions in /usr/local/lib/python3.9/dist-packages (from torch==1.13.1->torchdata) (4.5.0)\n",
            "Requirement already satisfied: certifi>=2017.4.17 in /usr/local/lib/python3.9/dist-packages (from requests->torchdata) (2022.12.7)\n",
            "Requirement already satisfied: idna<3,>=2.5 in /usr/local/lib/python3.9/dist-packages (from requests->torchdata) (2.10)\n",
            "Requirement already satisfied: chardet<5,>=3.0.2 in /usr/local/lib/python3.9/dist-packages (from requests->torchdata) (4.0.0)\n"
          ]
        }
      ],
      "source": [
        "%%bash\n",
        "pip install torchdata"
      ]
    },
    {
      "cell_type": "markdown",
      "metadata": {
        "id": "mDKvjgWXQR3k"
      },
      "source": [
        ">> Here we define the **`Dataset` module for MLM task**, were sequences in a dataset are processed into **(input, label, attention_mask)** to match the Masked LM task.\n",
        "\n",
        ">> The key part to changing the original code in the challenge to MLM task is here."
      ]
    },
    {
      "cell_type": "code",
      "execution_count": 6,
      "metadata": {
        "id": "X4VZmAZTMnzN"
      },
      "outputs": [],
      "source": [
        "from torchtext.datasets import WikiText2\n",
        "from torchtext.data.utils import get_tokenizer\n",
        "from torchtext.vocab import build_vocab_from_iterator\n",
        "\n",
        "train_iter = WikiText2(split='train')\n",
        "tokenizer = get_tokenizer('basic_english')\n",
        "specials = ['<unk>','[PAD]','[MASK]','[EOS]']\n",
        "vocab = build_vocab_from_iterator(map(tokenizer, train_iter), specials=specials)\n",
        "vocab.set_default_index(vocab['<unk>']) \n",
        "\n",
        "# Define the masked language modeling task dataset\n",
        "class MaskedLMDataset(torch.utils.data.Dataset):\n",
        "    def __init__(self, data_iter, tokenizer, vocab, seq_len, min_seq_len=4, mask_pct=0.1):\n",
        "        self.data_iter = data_iter\n",
        "        self.dataset = [tokenizer(item) for item in data_iter if len(tokenizer(item))>=min_seq_len]\n",
        "        self.tokenizer = tokenizer\n",
        "        self.vocab = vocab\n",
        "        self.seq_len = seq_len\n",
        "        self.mask_pct = mask_pct\n",
        "\n",
        "    def __len__(self):\n",
        "        return(len(self.dataset))\n",
        "\n",
        "    def __getitem__(self, index):\n",
        "        \"\"\"\n",
        "        retrieves sequence from the dataset and returns it to be processes by the Masked Language Model.\n",
        "\n",
        "        Inputs:\n",
        "        -------\n",
        "            index [int]: index of the corresponding sequence from the dataset\n",
        "        \n",
        "        Returns:\n",
        "        -------\n",
        "            masked_tokens [torch.Tensor]: tensor of token indicies of the masked sentence.\n",
        "                used as transformer inputes\n",
        "            labels [torch.Tensor]: tensor of token indicies of only masked tokens\n",
        "                (unmasked tokens get the value of -100). used as transformer labels\n",
        "            attention_mask: src_mask for Transformer layer input.\n",
        "                seq_len by seq_len square tensor with float(-inf) as upper tri values\n",
        "                and zeros elsewhere.\n",
        "        \n",
        "        \"\"\"\n",
        "        tokens = self.dataset[index]\n",
        "        token_idx = [self.vocab[token] for token in tokens] + [self.vocab['[EOS]']]\n",
        "\n",
        "        # Mask 10% of the tokens\n",
        "        masked_tokens = token_idx.copy()\n",
        "        unmasked_tokens = token_idx.copy()\n",
        "        num_masked = max(1, int(len(tokens) * self.mask_pct))\n",
        "        masked_indices = torch.randperm(len(tokens))[:num_masked]\n",
        "        for i in masked_indices:\n",
        "            if token_idx[i] == self.vocab['[EOS]']:\n",
        "                continue\n",
        "            masked_tokens[i] = self.vocab['[MASK]']\n",
        "\n",
        "            # original MLM replaces %20 of the mased tokens with random other tokens instead of mask token\n",
        "            # if torch.rand(1) < 0.8:\n",
        "            #     masked_tokens[i] = self.vocab['[MASK]']\n",
        "            # elif torch.rand(1) < 0.5:\n",
        "            #     masked_tokens[i] = torch.randint(len(self.vocab), (1,)).item()\n",
        "\n",
        "        attention_mask = get_attn_sqr_mask(self.seq_len)\n",
        "\n",
        "        # Pad or truncate the sequence\n",
        "        if len(token_idx) < self.seq_len:\n",
        "            unmasked_tokens = unmasked_tokens + [self.vocab['[PAD]']] * (self.seq_len - len(token_idx))\n",
        "            masked_tokens = masked_tokens + [self.vocab['[PAD]']] * (self.seq_len - len(token_idx))\n",
        "            # prevents transformer layers to attend to padded tokens\n",
        "            attention_mask[:,len(token_idx):] = float('-inf')\n",
        "        else:\n",
        "            unmasked_tokens = unmasked_tokens[:self.seq_len]\n",
        "            masked_tokens = masked_tokens[:self.seq_len]\n",
        "\n",
        "        # create final input and label sequence tensors\n",
        "        masked_tokens = torch.tensor(masked_tokens) \n",
        "        labels = torch.tensor(unmasked_tokens).clone()\n",
        "        labels[masked_tokens != self.vocab['[MASK]']] = -100 # only calculate loss on masked tokens\n",
        "\n",
        "        return masked_tokens, labels, attention_mask\n",
        "\n",
        "\n",
        "    def generate_from_custom_sentece(self, sent: str, mask_idx=None, pad_or_trunc=False):\n",
        "        \"\"\"\n",
        "        function to prepare any arbitrary sentence string to be processes by the Masked Language Model.\n",
        "\n",
        "        Inputs:\n",
        "        -------\n",
        "            sent [str]: complete sample string to perform masking on and generate\n",
        "                masked_tokens, labels, attention_mask from\n",
        "            mask_idx [Iterable]: sequence of indicies to be masked\n",
        "            pad_or_trunc[Boolean]: wether to perform padding/truncation to the \n",
        "                input.\n",
        "        \n",
        "        Returns:\n",
        "        -------\n",
        "            masked_tokens [torch.Tensor]: tensor of token indicies of the masked sentence.\n",
        "                used as transformer inputes\n",
        "            labels [torch.Tensor]: tensor of token indicies of only masked tokens\n",
        "                (unmasked tokens get the value of -100). used as transformer labels\n",
        "            attention_mask: src_mask for Transformer layer input.\n",
        "                seq_len by seq_len square tensor with float(-inf) as upper tri values\n",
        "                and zeros elsewhere.\n",
        "        \n",
        "        \"\"\"\n",
        "        tokens = self.tokenizer(sent)\n",
        "        unmasked_token_ids = [self.vocab[token] for token in tokens] + [self.vocab['[EOS]']]\n",
        "        masked_token_ids = unmasked_token_ids.copy()\n",
        "        for idx in mask_idx:\n",
        "            masked_token_ids[idx] = self.vocab['[MASK]']\n",
        "        attention_mask = get_attn_sqr_mask(self.seq_len)\n",
        "        if pad_or_trunc:\n",
        "                # Pad or truncate the sequence\n",
        "            if len(masked_token_ids) < self.seq_len:\n",
        "                unmasked_tokens = unmasked_tokens + [self.vocab['[PAD]']] * (self.seq_len - len(tokens)+1)\n",
        "                masked_tokens = masked_tokens + [self.vocab['[PAD]']] * (self.seq_len - len(tokens)+1)\n",
        "                # prevents transformer layers to attend to padded tokens\n",
        "                attention_mask[:,len(tokens)+1:] = float('-inf')\n",
        "            else:\n",
        "                unmasked_tokens = unmasked_tokens[:self.seq_len]\n",
        "                masked_tokens = masked_tokens[:self.seq_len]\n",
        "\n",
        "        # create final input and label sequence tensors\n",
        "        masked_tokens = torch.tensor(masked_tokens) \n",
        "        labels = torch.tensor(unmasked_tokens).clone()\n",
        "        labels[masked_tokens != self.vocab['[MASK]']] = -100 # only calculate loss on masked tokens\n",
        "\n",
        "        return masked_tokens, labels, attention_mask"
      ]
    },
    {
      "cell_type": "code",
      "execution_count": 7,
      "metadata": {
        "id": "YwEQ4ut8I0RY"
      },
      "outputs": [],
      "source": [
        "def get_attn_sqr_mask(seq_len: int):\n",
        "    attention_mask = torch.triu(torch.ones(seq_len, seq_len) * float('-inf'), diagonal=1)\n",
        "    return(attention_mask)"
      ]
    },
    {
      "cell_type": "markdown",
      "metadata": {
        "id": "qi9_AEJNMnzO"
      },
      "source": [
        "### Functions to generate input and target sequence\n",
        "\n",
        "\n"
      ]
    },
    {
      "cell_type": "code",
      "execution_count": 23,
      "metadata": {
        "id": "64UXLkBNE8VB"
      },
      "outputs": [],
      "source": [
        "device = torch.device('cuda' if torch.cuda.is_available() else 'cpu')\n",
        "\n",
        "batch_size = 20\n",
        "eval_batch_size = 10\n",
        "seq_len = 128\n",
        "\n",
        "# Prepare the dataset\n",
        "train_iter, valid_iter, test_iter = WikiText2(root='./data')\n",
        "# the `min_seq_len` parameter prevents sentences shorter than min_seq_len value to be in the dataset\n",
        "# it results in less sparse data and provide more information to the model\n",
        "train_dataset = MaskedLMDataset(train_iter, tokenizer, vocab, seq_len, min_seq_len=2)\n",
        "valid_dataset = MaskedLMDataset(valid_iter, tokenizer, vocab, seq_len, min_seq_len=2)\n",
        "test_dataset = MaskedLMDataset(test_iter, tokenizer, vocab, seq_len, min_seq_len=2)\n",
        "\n",
        "# Prepare the data loaders\n",
        "train_loader = DataLoader(train_dataset, batch_size=batch_size, shuffle=True)\n",
        "valid_loader = DataLoader(valid_dataset, batch_size=eval_batch_size)\n",
        "test_loader = DataLoader(test_dataset, batch_size=eval_batch_size)\n"
      ]
    },
    {
      "cell_type": "code",
      "execution_count": 25,
      "metadata": {
        "colab": {
          "base_uri": "https://localhost:8080/",
          "height": 499
        },
        "id": "k2IdsxPmo6XX",
        "outputId": "8a9ab600-ae55-4f78-96c2-5e12edbd0bf4"
      },
      "outputs": [
        {
          "data": {
            "image/png": "[encoded data removed]",
            "text/plain": [
              "<Figure size 864x576 with 1 Axes>"
            ]
          },
          "metadata": {
            "needs_background": "light"
          },
          "output_type": "display_data"
        }
      ],
      "source": [
        "\n",
        "import matplotlib.pyplot as plt\n",
        "\n",
        "lens = [len(seq) for seq in train_dataset.dataset]\n",
        "plt.figure(figsize=(12,8))\n",
        "plt.hist(lens, bins=int(len(lens)**0.5))\n",
        "plt.title(\"Train dataset sequence lenght distribution [removed sequences with len < 2]\");\n"
      ]
    },
    {
      "cell_type": "code",
      "execution_count": 26,
      "metadata": {
        "colab": {
          "base_uri": "https://localhost:8080/"
        },
        "id": "GiblsZVkpxkG",
        "outputId": "d7eefd17-9e3b-454a-9015-12d866282095"
      },
      "outputs": [
        {
          "name": "stdout",
          "output_type": "stream",
          "text": [
            "num empty sequences = 0\n",
            "count    23621.000000\n",
            "mean        86.780577\n",
            "std         81.513111\n",
            "min          2.000000\n",
            "25%          8.000000\n",
            "50%         75.000000\n",
            "75%        139.000000\n",
            "max        696.000000\n",
            "dtype: float64\n"
          ]
        }
      ],
      "source": [
        "import pandas as pd\n",
        "zeros = [x for x in lens if x==0]\n",
        "print(\"num empty sequences =\", len(zeros))\n",
        "print(pd.Series(lens).describe())"
      ]
    },
    {
      "cell_type": "markdown",
      "metadata": {
        "id": "hi_Gqo85ZpQY"
      },
      "source": []
    },
    {
      "cell_type": "code",
      "execution_count": null,
      "metadata": {
        "colab": {
          "base_uri": "https://localhost:8080/"
        },
        "id": "7SItgnlsCjbh",
        "outputId": "aaa3bbec-8fc3-4481-d1b4-55c9fa0b3219"
      },
      "outputs": [
        {
          "name": "stdout",
          "output_type": "stream",
          "text": [
            "torch.Size([148])\n"
          ]
        }
      ],
      "source": [
        "# This block is for testing input/output shapes and model behaviour and debugging\n",
        "# for inputs, targets, attention_mask in train_loader:\n",
        "#     out = model(inputs.permute(1,0), torch.triu(torch.ones((seq_len, seq_len))* float('-inf'), diagonal=1))\n",
        "#     # print(model.encoder(inputs.permute(0,1)))\n",
        "#     # print(inputs.permute(1,0))\n",
        "#     # print(out.permute(1, 2, 0))\n",
        "    # break"
      ]
    },
    {
      "cell_type": "markdown",
      "metadata": {
        "id": "WnlTYWxkMYmL"
      },
      "source": [
        "# 3- Define a reasonable baseline and compare model performance with that."
      ]
    },
    {
      "cell_type": "markdown",
      "metadata": {
        "id": "N_a-Mt3sZq31"
      },
      "source": [
        ">> For the baseline model, the `min_seq` parameter of the dataset is set to 2, so it prevents empty and single-word sequences from pasing into the model.\n",
        "\n",
        ">> This parameter can be optimized as a part of improving the model without extra resources."
      ]
    },
    {
      "cell_type": "markdown",
      "metadata": {
        "id": "VYqe2XECMnzQ"
      },
      "source": [
        "## Initiate an instance\n",
        "\n",
        "\n"
      ]
    },
    {
      "cell_type": "markdown",
      "metadata": {
        "id": "p7ev0NQRMnzQ"
      },
      "source": [
        "The model hyperparameters are defined below. The vocab size is\n",
        "equal to the length of the vocab object.\n",
        "\n",
        "\n"
      ]
    },
    {
      "cell_type": "code",
      "execution_count": 27,
      "metadata": {
        "id": "1lIvBnAkMnzR"
      },
      "outputs": [],
      "source": [
        "ntokens = len(vocab)  # size of vocabulary\n",
        "emsize = 200  # embedding dimension\n",
        "d_hid = 200  # dimension of the feedforward network model in nn.TransformerEncoder\n",
        "nlayers = 2  # number of nn.TransformerEncoderLayer in nn.TransformerEncoder\n",
        "nhead = 2  # number of heads in nn.MultiheadAttention\n",
        "dropout = 0.2  # dropout probability\n",
        "model = TransformerModel(ntokens, emsize, nhead, d_hid, nlayers, dropout).to(device)"
      ]
    },
    {
      "cell_type": "markdown",
      "metadata": {
        "id": "vt1HgmflMnzR"
      },
      "source": [
        "## Run the model\n",
        "\n",
        "\n"
      ]
    },
    {
      "cell_type": "markdown",
      "metadata": {
        "id": "Ql6_SM0sMnzR"
      },
      "source": [
        "We use [CrossEntropyLoss](https://pytorch.org/docs/stable/generated/torch.nn.CrossEntropyLoss.html)_\n",
        "with the [SGD](https://pytorch.org/docs/stable/generated/torch.optim.SGD.html)_\n",
        "(stochastic gradient descent) optimizer. The learning rate is initially set to\n",
        "0.05 and follows a [StepLR](https://pytorch.org/docs/stable/generated/torch.optim.lr_scheduler.StepLR.html)_\n",
        "schedule. During training, we use [nn.utils.clip_grad_norm\\_](https://pytorch.org/docs/stable/generated/torch.nn.utils.clip_grad_norm_.html)_\n",
        "to prevent gradients from exploding.\n",
        "\n",
        "\n"
      ]
    },
    {
      "cell_type": "code",
      "execution_count": 28,
      "metadata": {
        "id": "CE9qLa_uMnzU"
      },
      "outputs": [],
      "source": [
        "import copy\n",
        "import time\n",
        "\n",
        "def train(model: nn.Module) -> None:\n",
        "\n",
        "    model.train()  # turn on train mode\n",
        "    total_loss = 0.\n",
        "    log_interval = 200\n",
        "    start_time = time.time()\n",
        "    # src_mask = generate_square_subsequent_mask(bptt).to(device)\n",
        "\n",
        "    num_batches = len(train_loader)\n",
        "    for batch, (inputs, targets, attention_mask) in enumerate(train_loader):\n",
        "        \n",
        "        inputs = inputs.permute(1,0).to(device)\n",
        "        targets = targets.to(device)\n",
        "        attention_mask = attention_mask[0,...].to(device)\n",
        "        optimizer.zero_grad()\n",
        "        logits = model(inputs, attention_mask)\n",
        "\n",
        "        # for calculaing loss we shoul have following shapes: logits -> size:(batch_size, num_classes, seq_len) | targets-> size:(Batchsize, seq_len)\n",
        "        loss = criterion(logits.permute(1,2,0), targets) \n",
        "        # loss = criterion(logits.view(-1, len(vocab)), targets.view(-1))\n",
        "        loss.backward()\n",
        "        optimizer.step()\n",
        "        total_loss += loss.item()\n",
        "\n",
        "        if batch % log_interval == 0 and batch > 0:\n",
        "            lr = scheduler.get_last_lr()[0]\n",
        "            ms_per_batch = (time.time() - start_time) * 1000 / log_interval\n",
        "            cur_loss = total_loss / (batch+1)\n",
        "            ppl = math.exp(cur_loss)\n",
        "            print(f'| epoch {epoch:3d} | {batch:5d}/{num_batches:5d} batches | '\n",
        "                  f'lr {lr:02.4f} | ms/batch {ms_per_batch:5.2f} | '\n",
        "                  f'loss {cur_loss:5.2f} | ppl {ppl:8.2f}')\n",
        "            # total_loss = 0\n",
        "            start_time = time.time()\n",
        "    return(total_loss/num_batches)\n",
        "\n",
        "def evaluate(model: nn.Module, valid_loader: DataLoader) -> float:\n",
        "    model.eval()  # turn on evaluation mode\n",
        "    total_loss = 0.\n",
        "    \n",
        "    with torch.no_grad():\n",
        "        for inputs, targets, attention_mask in valid_loader:\n",
        "            inputs = inputs.permute(1,0).to(device)\n",
        "            targets = targets.to(device)\n",
        "            attention_mask = attention_mask[0,...].to(device)\n",
        "            logits = model(inputs, attention_mask)\n",
        "\n",
        "            loss = criterion(logits.permute(1,2,0), targets)\n",
        "            # loss = criterion(logits.view(-1, len(vocab)), targets.view(-1))\n",
        "            total_loss += loss.item()\n",
        "    return total_loss / (len(valid_loader))"
      ]
    },
    {
      "cell_type": "markdown",
      "metadata": {
        "id": "VT4vJ18dWQcR"
      },
      "source": [
        "**`TODO:`**\n",
        ">> Metrics and evaluation definition be improved based on:\n",
        "https://aclanthology.org/2020.acl-main.240.pdf\n"
      ]
    },
    {
      "cell_type": "markdown",
      "metadata": {
        "id": "w1nuMMxBMnzU"
      },
      "source": [
        "Loop over epochs. Save the model if the validation loss is the best\n",
        "we've seen so far. Adjust the learning rate after each epoch.\n",
        "\n"
      ]
    },
    {
      "cell_type": "code",
      "execution_count": 29,
      "metadata": {
        "colab": {
          "base_uri": "https://localhost:8080/"
        },
        "id": "4i-MsbqtMnzU",
        "outputId": "56d66515-348f-44b7-d9c3-53e3fa56900e"
      },
      "outputs": [
        {
          "name": "stdout",
          "output_type": "stream",
          "text": [
            "| epoch   1 |   200/ 1182 batches | lr 0.0500 | ms/batch 126.95 | loss  7.99 | ppl  2944.96\n",
            "| epoch   1 |   400/ 1182 batches | lr 0.0500 | ms/batch 125.13 | loss  7.71 | ppl  2221.39\n",
            "| epoch   1 |   600/ 1182 batches | lr 0.0500 | ms/batch 125.21 | loss  7.59 | ppl  1975.63\n",
            "| epoch   1 |   800/ 1182 batches | lr 0.0500 | ms/batch 124.53 | loss  7.50 | ppl  1807.72\n",
            "| epoch   1 |  1000/ 1182 batches | lr 0.0500 | ms/batch 127.86 | loss  7.43 | ppl  1683.25\n",
            "-----------------------------------------------------------------------------------------\n",
            "| end of epoch   1 | time: 159.59s | valid loss  6.91 | valid ppl  1000.58\n",
            "-----------------------------------------------------------------------------------------\n",
            "| epoch   2 |   200/ 1182 batches | lr 0.0450 | ms/batch 126.29 | loss  7.13 | ppl  1242.85\n",
            "| epoch   2 |   400/ 1182 batches | lr 0.0450 | ms/batch 126.16 | loss  7.09 | ppl  1197.02\n",
            "| epoch   2 |   600/ 1182 batches | lr 0.0450 | ms/batch 132.41 | loss  7.08 | ppl  1183.16\n",
            "| epoch   2 |   800/ 1182 batches | lr 0.0450 | ms/batch 126.43 | loss  7.06 | ppl  1162.42\n",
            "| epoch   2 |  1000/ 1182 batches | lr 0.0450 | ms/batch 127.00 | loss  7.04 | ppl  1146.25\n",
            "-----------------------------------------------------------------------------------------\n",
            "| end of epoch   2 | time: 160.81s | valid loss  6.72 | valid ppl   827.69\n",
            "-----------------------------------------------------------------------------------------\n",
            "| epoch   3 |   200/ 1182 batches | lr 0.0405 | ms/batch 126.79 | loss  6.95 | ppl  1040.51\n",
            "| epoch   3 |   400/ 1182 batches | lr 0.0405 | ms/batch 127.16 | loss  6.95 | ppl  1045.13\n",
            "| epoch   3 |   600/ 1182 batches | lr 0.0405 | ms/batch 123.82 | loss  6.95 | ppl  1038.50\n",
            "| epoch   3 |   800/ 1182 batches | lr 0.0405 | ms/batch 127.79 | loss  6.94 | ppl  1028.17\n",
            "| epoch   3 |  1000/ 1182 batches | lr 0.0405 | ms/batch 126.99 | loss  6.94 | ppl  1029.24\n",
            "-----------------------------------------------------------------------------------------\n",
            "| end of epoch   3 | time: 159.66s | valid loss  6.76 | valid ppl   858.42\n",
            "-----------------------------------------------------------------------------------------\n",
            "| epoch   4 |   200/ 1182 batches | lr 0.0365 | ms/batch 128.22 | loss  6.92 | ppl  1014.06\n",
            "| epoch   4 |   400/ 1182 batches | lr 0.0365 | ms/batch 122.32 | loss  6.91 | ppl  1006.29\n",
            "| epoch   4 |   600/ 1182 batches | lr 0.0365 | ms/batch 126.16 | loss  6.91 | ppl   999.16\n",
            "| epoch   4 |   800/ 1182 batches | lr 0.0365 | ms/batch 125.43 | loss  6.89 | ppl   985.78\n",
            "| epoch   4 |  1000/ 1182 batches | lr 0.0365 | ms/batch 125.56 | loss  6.89 | ppl   983.99\n",
            "-----------------------------------------------------------------------------------------\n",
            "| end of epoch   4 | time: 157.85s | valid loss  6.72 | valid ppl   826.48\n",
            "-----------------------------------------------------------------------------------------\n",
            "| epoch   5 |   200/ 1182 batches | lr 0.0328 | ms/batch 123.28 | loss  6.88 | ppl   973.91\n",
            "| epoch   5 |   400/ 1182 batches | lr 0.0328 | ms/batch 126.15 | loss  6.89 | ppl   978.90\n",
            "| epoch   5 |   600/ 1182 batches | lr 0.0328 | ms/batch 122.65 | loss  6.88 | ppl   972.72\n",
            "| epoch   5 |   800/ 1182 batches | lr 0.0328 | ms/batch 122.90 | loss  6.88 | ppl   971.87\n",
            "| epoch   5 |  1000/ 1182 batches | lr 0.0328 | ms/batch 123.06 | loss  6.88 | ppl   968.96\n",
            "-----------------------------------------------------------------------------------------\n",
            "| end of epoch   5 | time: 155.65s | valid loss  6.64 | valid ppl   768.59\n",
            "-----------------------------------------------------------------------------------------\n",
            "| epoch   6 |   200/ 1182 batches | lr 0.0295 | ms/batch 123.40 | loss  6.86 | ppl   952.95\n",
            "| epoch   6 |   400/ 1182 batches | lr 0.0295 | ms/batch 124.07 | loss  6.85 | ppl   947.45\n",
            "| epoch   6 |   600/ 1182 batches | lr 0.0295 | ms/batch 127.66 | loss  6.85 | ppl   944.00\n",
            "| epoch   6 |   800/ 1182 batches | lr 0.0295 | ms/batch 127.66 | loss  6.85 | ppl   945.32\n",
            "| epoch   6 |  1000/ 1182 batches | lr 0.0295 | ms/batch 128.97 | loss  6.85 | ppl   946.22\n",
            "-----------------------------------------------------------------------------------------\n",
            "| end of epoch   6 | time: 160.19s | valid loss  6.90 | valid ppl   990.90\n",
            "-----------------------------------------------------------------------------------------\n",
            "| epoch   7 |   200/ 1182 batches | lr 0.0266 | ms/batch 129.82 | loss  6.86 | ppl   953.10\n",
            "| epoch   7 |   400/ 1182 batches | lr 0.0266 | ms/batch 127.25 | loss  6.86 | ppl   958.09\n",
            "| epoch   7 |   600/ 1182 batches | lr 0.0266 | ms/batch 125.91 | loss  6.86 | ppl   948.93\n",
            "| epoch   7 |   800/ 1182 batches | lr 0.0266 | ms/batch 122.63 | loss  6.85 | ppl   947.04\n",
            "| epoch   7 |  1000/ 1182 batches | lr 0.0266 | ms/batch 129.06 | loss  6.85 | ppl   943.78\n",
            "-----------------------------------------------------------------------------------------\n",
            "| end of epoch   7 | time: 159.44s | valid loss  6.62 | valid ppl   752.29\n",
            "-----------------------------------------------------------------------------------------\n",
            "| epoch   8 |   200/ 1182 batches | lr 0.0239 | ms/batch 128.04 | loss  6.84 | ppl   934.76\n",
            "| epoch   8 |   400/ 1182 batches | lr 0.0239 | ms/batch 127.32 | loss  6.84 | ppl   937.64\n",
            "| epoch   8 |   600/ 1182 batches | lr 0.0239 | ms/batch 129.41 | loss  6.83 | ppl   925.60\n",
            "| epoch   8 |   800/ 1182 batches | lr 0.0239 | ms/batch 124.80 | loss  6.83 | ppl   923.54\n",
            "| epoch   8 |  1000/ 1182 batches | lr 0.0239 | ms/batch 127.29 | loss  6.83 | ppl   920.98\n",
            "-----------------------------------------------------------------------------------------\n",
            "| end of epoch   8 | time: 160.92s | valid loss  6.70 | valid ppl   814.28\n",
            "-----------------------------------------------------------------------------------------\n",
            "| epoch   9 |   200/ 1182 batches | lr 0.0215 | ms/batch 123.38 | loss  6.82 | ppl   914.30\n",
            "| epoch   9 |   400/ 1182 batches | lr 0.0215 | ms/batch 123.32 | loss  6.82 | ppl   917.99\n",
            "| epoch   9 |   600/ 1182 batches | lr 0.0215 | ms/batch 127.22 | loss  6.81 | ppl   909.31\n",
            "| epoch   9 |   800/ 1182 batches | lr 0.0215 | ms/batch 123.85 | loss  6.82 | ppl   913.83\n",
            "| epoch   9 |  1000/ 1182 batches | lr 0.0215 | ms/batch 123.45 | loss  6.82 | ppl   913.50\n",
            "-----------------------------------------------------------------------------------------\n",
            "| end of epoch   9 | time: 156.76s | valid loss  6.56 | valid ppl   706.84\n",
            "-----------------------------------------------------------------------------------------\n",
            "| epoch  10 |   200/ 1182 batches | lr 0.0194 | ms/batch 127.31 | loss  6.79 | ppl   885.02\n",
            "| epoch  10 |   400/ 1182 batches | lr 0.0194 | ms/batch 123.71 | loss  6.80 | ppl   896.75\n",
            "| epoch  10 |   600/ 1182 batches | lr 0.0194 | ms/batch 124.68 | loss  6.80 | ppl   895.38\n",
            "| epoch  10 |   800/ 1182 batches | lr 0.0194 | ms/batch 124.88 | loss  6.80 | ppl   898.86\n",
            "| epoch  10 |  1000/ 1182 batches | lr 0.0194 | ms/batch 122.44 | loss  6.80 | ppl   900.10\n",
            "-----------------------------------------------------------------------------------------\n",
            "| end of epoch  10 | time: 156.80s | valid loss  6.72 | valid ppl   827.16\n",
            "-----------------------------------------------------------------------------------------\n"
          ]
        }
      ],
      "source": [
        "best_val_loss = float('inf')\n",
        "epochs = 10\n",
        "\n",
        "# class index -100 refers to unmasked tokens in the target\n",
        "criterion = nn.CrossEntropyLoss(ignore_index=-100) \n",
        "lr = 0.05  # learning rate\n",
        "optimizer = torch.optim.SGD(model.parameters(), lr=lr)\n",
        "scheduler = torch.optim.lr_scheduler.StepLR(optimizer, 1.0, gamma=0.9)\n",
        "\n",
        "hist = {\n",
        "    \"loss\":{\n",
        "        \"train\":[],\n",
        "        \"val\":[]\n",
        "    },\n",
        "    \"perplexity\":{\n",
        "        \"train\":[],\n",
        "        \"val\":[]\n",
        "    }\n",
        "}\n",
        "\n",
        "with TemporaryDirectory() as tempdir:\n",
        "    best_model_params_path = os.path.join(tempdir, \"best_model_params.pt\")\n",
        "\n",
        "    for epoch in range(1, epochs + 1):\n",
        "        epoch_start_time = time.time()\n",
        "        train_loss = train(model)\n",
        "        val_loss = evaluate(model, valid_loader)\n",
        "        train_ppl = math.exp(train_loss)\n",
        "        val_ppl = math.exp(val_loss)\n",
        "\n",
        "        hist[\"loss\"][\"train\"].append(train_loss)\n",
        "        hist[\"loss\"][\"val\"].append(val_loss)\n",
        "        hist[\"perplexity\"][\"train\"].append(train_ppl)\n",
        "        hist[\"perplexity\"][\"val\"].append(val_ppl)\n",
        "\n",
        "        elapsed = time.time() - epoch_start_time\n",
        "        print('-' * 89)\n",
        "        print(f'| end of epoch {epoch:3d} | time: {elapsed:5.2f}s | '\n",
        "            f'valid loss {val_loss:5.2f} | valid ppl {val_ppl:8.2f}')\n",
        "        print('-' * 89)\n",
        "\n",
        "        if val_loss < best_val_loss:\n",
        "            best_val_loss = val_loss\n",
        "            torch.save(model.state_dict(), best_model_params_path)\n",
        "\n",
        "        scheduler.step()\n",
        "    model.load_state_dict(torch.load(best_model_params_path)) # load best model states"
      ]
    },
    {
      "cell_type": "markdown",
      "metadata": {
        "id": "26vetM33MnzV"
      },
      "source": [
        "## Evaluate the best model on the test dataset\n",
        "\n",
        "\n"
      ]
    },
    {
      "cell_type": "code",
      "execution_count": 30,
      "metadata": {
        "colab": {
          "base_uri": "https://localhost:8080/"
        },
        "id": "dzXy9ZUnMnzV",
        "outputId": "14e98baf-2952-4501-b0c7-5550f53e4a3a"
      },
      "outputs": [
        {
          "name": "stdout",
          "output_type": "stream",
          "text": [
            "=========================================================================================\n",
            "| End of training | test loss  6.55 | test ppl   696.06\n",
            "=========================================================================================\n"
          ]
        }
      ],
      "source": [
        "test_loss = evaluate(model, valid_loader)\n",
        "test_ppl = math.exp(test_loss)\n",
        "print('=' * 89)\n",
        "print(f'| End of training | test loss {test_loss:5.2f} | '\n",
        "      f'test ppl {test_ppl:8.2f}')\n",
        "print('=' * 89)"
      ]
    },
    {
      "cell_type": "code",
      "execution_count": 33,
      "metadata": {
        "id": "wdXE8tQxXm6o"
      },
      "outputs": [],
      "source": [
        "def plot_hist(hist, name=\"hist_plot\"):\n",
        "    plt.figure(figsize=(6*len(list(hist.keys())), 8))\n",
        "    for ind, metric in enumerate(hist.keys(), start=1):\n",
        "        plt.subplot(1, len(list(hist.keys())), ind)\n",
        "        for split in hist[metric].keys():\n",
        "            values = hist[metric][split]\n",
        "            plt.plot(list(range(1,len(values)+1)), values, label=split)\n",
        "        plt.title(metric.capitalize()+\" history plot\")\n",
        "        plt.grid()\n",
        "        plt.legend()\n",
        "        plt.xlabel(\"epochs\")\n",
        "        plt.ylabel(metric)\n",
        "    plt.tight_layout()\n",
        "    plt.savefig(name+\".png\")"
      ]
    },
    {
      "cell_type": "code",
      "execution_count": 34,
      "metadata": {
        "colab": {
          "base_uri": "https://localhost:8080/",
          "height": 585
        },
        "id": "loDxjLZCctUx",
        "outputId": "c0bd45ca-8b4f-4d77-82d9-fc1be176a194"
      },
      "outputs": [
        {
          "data": {
            "image/png": "[encoded data removed]",
            "text/plain": [
              "<Figure size 864x576 with 2 Axes>"
            ]
          },
          "metadata": {
            "needs_background": "light"
          },
          "output_type": "display_data"
        }
      ],
      "source": [
        "plot_hist(hist, name=\"baseline_hist_plot\")"
      ]
    },
    {
      "cell_type": "markdown",
      "metadata": {
        "id": "FklPW7ryMmVP"
      },
      "source": [
        "\n",
        "---"
      ]
    },
    {
      "cell_type": "markdown",
      "metadata": {
        "id": "_7Uzg6yYMpMi"
      },
      "source": [
        "# 4 - Try to improve the model performance without using more resources.\n"
      ]
    },
    {
      "cell_type": "markdown",
      "metadata": {
        "id": "JCUGjEAhOb1Z"
      },
      "source": [
        "Generally, to imrove performance with limited resources, we have following options to do:\n",
        "- Improve data quality/quantity e.g. better preprocessing, better labeling, etc.\n",
        "- Optimize hyperparameters\n",
        "- Optimize resource-free model specifications e.g. optimizers, ...\n",
        "\n",
        "<br>\n",
        "\n",
        "What has been done:\n",
        "\n",
        "- Change datasets' `seq_len` and `min_seq_len` to provide more information for MLM \n",
        "- Change `dropout` rate\n",
        "- Add momentum to `SGD` optimizer\n",
        "- Reducing LR scheduler's `gamma` rate\n",
        "\n",
        "<br>\n",
        "\n",
        "What more could be done:\n",
        "- Add text cleaning steps to the data pipeline\n",
        "- Use hyperparameter optimizization libraries to fin better hyperparams"
      ]
    },
    {
      "cell_type": "code",
      "execution_count": 67,
      "metadata": {
        "id": "AezlfyFECXub"
      },
      "outputs": [],
      "source": [
        "device = torch.device('cuda' if torch.cuda.is_available() else 'cpu')\n",
        "\n",
        "batch_size = 40\n",
        "eval_batch_size = 10\n",
        "seq_len = 192\n",
        "\n",
        "# Prepare the dataset\n",
        "train_iter, valid_iter, test_iter = WikiText2(root='./data')\n",
        "train_dataset = MaskedLMDataset(train_iter, tokenizer, vocab, seq_len, min_seq_len=10)\n",
        "valid_dataset = MaskedLMDataset(valid_iter, tokenizer, vocab, seq_len, min_seq_len=10)\n",
        "test_dataset = MaskedLMDataset(test_iter, tokenizer, vocab, seq_len, min_seq_len=10)\n",
        "\n",
        "# Prepare the data loaders\n",
        "train_loader = DataLoader(train_dataset, batch_size=batch_size, shuffle=True)\n",
        "valid_loader = DataLoader(valid_dataset, batch_size=eval_batch_size)\n",
        "test_loader = DataLoader(test_dataset, batch_size=eval_batch_size)"
      ]
    },
    {
      "cell_type": "code",
      "execution_count": 74,
      "metadata": {
        "id": "7M9FUUviJ-J5"
      },
      "outputs": [],
      "source": [
        "ntokens = len(vocab)  # size of vocabulary\n",
        "emsize = 200  # embedding dimension\n",
        "d_hid = 200  # dimension of the feedforward network model in nn.TransformerEncoder\n",
        "nlayers = 2  # number of nn.TransformerEncoderLayer in nn.TransformerEncoder\n",
        "nhead = 2  # number of heads in nn.MultiheadAttention\n",
        "dropout = 0.2  # dropout probability\n",
        "model_2 = TransformerModel(ntokens, emsize, nhead, d_hid, nlayers, dropout).to(device)"
      ]
    },
    {
      "cell_type": "code",
      "execution_count": 74,
      "metadata": {
        "id": "AlO4A3YomuXe"
      },
      "outputs": [],
      "source": []
    },
    {
      "cell_type": "code",
      "execution_count": 76,
      "metadata": {
        "id": "yGAxIUrlJ-J6"
      },
      "outputs": [],
      "source": [
        "criterion = nn.CrossEntropyLoss(ignore_index= -100)\n",
        "lr = 0.001  # learning rate\n",
        "optimizer = torch.optim.SGD(model_2.parameters(), lr=lr, momentum=0.8)\n",
        "scheduler = torch.optim.lr_scheduler.StepLR(optimizer, 1, gamma=0.9)"
      ]
    },
    {
      "cell_type": "code",
      "execution_count": 77,
      "metadata": {
        "colab": {
          "base_uri": "https://localhost:8080/"
        },
        "id": "VR9BU_8HJ-J6",
        "outputId": "ff4fe9f0-e0b9-40e4-98fd-a1220778aed6"
      },
      "outputs": [
        {
          "name": "stdout",
          "output_type": "stream",
          "text": [
            "| epoch   1 |   200/  426 batches | lr 0.0010 | ms/batch 307.49 | loss  9.39 | ppl 11956.74\n",
            "| epoch   1 |   400/  426 batches | lr 0.0010 | ms/batch 304.22 | loss  8.91 | ppl  7376.01\n",
            "-----------------------------------------------------------------------------------------\n",
            "| end of epoch   1 | time: 138.56s | valid loss  7.98 | valid ppl  2915.97\n",
            "-----------------------------------------------------------------------------------------\n",
            "| epoch   2 |   200/  426 batches | lr 0.0009 | ms/batch 305.38 | loss  8.14 | ppl  3433.28\n",
            "| epoch   2 |   400/  426 batches | lr 0.0009 | ms/batch 304.14 | loss  8.06 | ppl  3179.14\n",
            "-----------------------------------------------------------------------------------------\n",
            "| end of epoch   2 | time: 138.17s | valid loss  7.70 | valid ppl  2210.13\n",
            "-----------------------------------------------------------------------------------------\n",
            "| epoch   3 |   200/  426 batches | lr 0.0008 | ms/batch 305.61 | loss  7.90 | ppl  2686.66\n",
            "| epoch   3 |   400/  426 batches | lr 0.0008 | ms/batch 304.21 | loss  7.87 | ppl  2610.97\n",
            "-----------------------------------------------------------------------------------------\n",
            "| end of epoch   3 | time: 138.28s | valid loss  7.58 | valid ppl  1949.60\n",
            "-----------------------------------------------------------------------------------------\n",
            "| epoch   4 |   200/  426 batches | lr 0.0007 | ms/batch 305.52 | loss  7.82 | ppl  2481.51\n",
            "| epoch   4 |   400/  426 batches | lr 0.0007 | ms/batch 304.42 | loss  7.78 | ppl  2398.17\n",
            "-----------------------------------------------------------------------------------------\n",
            "| end of epoch   4 | time: 138.22s | valid loss  7.51 | valid ppl  1818.44\n",
            "-----------------------------------------------------------------------------------------\n",
            "| epoch   5 |   200/  426 batches | lr 0.0007 | ms/batch 305.50 | loss  7.73 | ppl  2277.35\n",
            "| epoch   5 |   400/  426 batches | lr 0.0007 | ms/batch 304.38 | loss  7.73 | ppl  2274.78\n",
            "-----------------------------------------------------------------------------------------\n",
            "| end of epoch   5 | time: 138.24s | valid loss  7.46 | valid ppl  1730.81\n",
            "-----------------------------------------------------------------------------------------\n",
            "| epoch   6 |   200/  426 batches | lr 0.0006 | ms/batch 305.94 | loss  7.69 | ppl  2184.57\n",
            "| epoch   6 |   400/  426 batches | lr 0.0006 | ms/batch 304.27 | loss  7.68 | ppl  2169.84\n",
            "-----------------------------------------------------------------------------------------\n",
            "| end of epoch   6 | time: 138.29s | valid loss  7.46 | valid ppl  1738.75\n",
            "-----------------------------------------------------------------------------------------\n",
            "| epoch   7 |   200/  426 batches | lr 0.0005 | ms/batch 306.58 | loss  7.66 | ppl  2124.46\n",
            "| epoch   7 |   400/  426 batches | lr 0.0005 | ms/batch 304.05 | loss  7.66 | ppl  2113.35\n",
            "-----------------------------------------------------------------------------------------\n",
            "| end of epoch   7 | time: 138.37s | valid loss  7.42 | valid ppl  1676.33\n",
            "-----------------------------------------------------------------------------------------\n",
            "| epoch   8 |   200/  426 batches | lr 0.0005 | ms/batch 305.41 | loss  7.63 | ppl  2068.73\n",
            "| epoch   8 |   400/  426 batches | lr 0.0005 | ms/batch 303.97 | loss  7.63 | ppl  2059.91\n",
            "-----------------------------------------------------------------------------------------\n",
            "| end of epoch   8 | time: 138.12s | valid loss  7.35 | valid ppl  1553.31\n",
            "-----------------------------------------------------------------------------------------\n",
            "| epoch   9 |   200/  426 batches | lr 0.0004 | ms/batch 305.16 | loss  7.59 | ppl  1980.60\n",
            "| epoch   9 |   400/  426 batches | lr 0.0004 | ms/batch 304.14 | loss  7.59 | ppl  1970.38\n",
            "-----------------------------------------------------------------------------------------\n",
            "| end of epoch   9 | time: 138.10s | valid loss  7.36 | valid ppl  1577.29\n",
            "-----------------------------------------------------------------------------------------\n",
            "| epoch  10 |   200/  426 batches | lr 0.0004 | ms/batch 305.58 | loss  7.58 | ppl  1964.24\n",
            "| epoch  10 |   400/  426 batches | lr 0.0004 | ms/batch 304.25 | loss  7.58 | ppl  1951.53\n",
            "-----------------------------------------------------------------------------------------\n",
            "| end of epoch  10 | time: 138.22s | valid loss  7.32 | valid ppl  1512.90\n",
            "-----------------------------------------------------------------------------------------\n"
          ]
        }
      ],
      "source": [
        "best_val_loss = float('inf')\n",
        "epochs = 10\n",
        "\n",
        "hist = {\n",
        "    \"loss\":{\n",
        "        \"train\":[],\n",
        "        \"val\":[]\n",
        "    },\n",
        "    \"perplexity\":{\n",
        "        \"train\":[],\n",
        "        \"val\":[]\n",
        "    }\n",
        "}\n",
        "\n",
        "with TemporaryDirectory() as tempdir:\n",
        "    best_model2_params_path = os.path.join(tempdir, \"best_model2_params.pt\")\n",
        "\n",
        "    for epoch in range(1, epochs + 1):\n",
        "        epoch_start_time = time.time()\n",
        "        train_loss = train(model_2)\n",
        "        val_loss = evaluate(model_2, valid_loader)\n",
        "        train_ppl = math.exp(train_loss)\n",
        "        val_ppl = math.exp(val_loss)\n",
        "\n",
        "        hist[\"loss\"][\"train\"].append(train_loss)\n",
        "        hist[\"loss\"][\"val\"].append(val_loss)\n",
        "        hist[\"perplexity\"][\"train\"].append(train_ppl)\n",
        "        hist[\"perplexity\"][\"val\"].append(val_ppl)\n",
        "\n",
        "        elapsed = time.time() - epoch_start_time\n",
        "        print('-' * 89)\n",
        "        print(f'| end of epoch {epoch:3d} | time: {elapsed:5.2f}s | '\n",
        "            f'valid loss {val_loss:5.2f} | valid ppl {val_ppl:8.2f}')\n",
        "        print('-' * 89)\n",
        "\n",
        "        if val_loss < best_val_loss:\n",
        "            best_val_loss = val_loss\n",
        "            torch.save(model_2.state_dict(), best_model2_params_path)\n",
        "\n",
        "        scheduler.step()\n",
        "    model_2.load_state_dict(torch.load(best_model2_params_path)) # load best model states"
      ]
    },
    {
      "cell_type": "code",
      "execution_count": 78,
      "metadata": {
        "colab": {
          "base_uri": "https://localhost:8080/"
        },
        "id": "0nxX1o_pQMX9",
        "outputId": "a222b812-5df4-4f79-9e7a-9831a3f0b568"
      },
      "outputs": [
        {
          "name": "stdout",
          "output_type": "stream",
          "text": [
            "=========================================================================================\n",
            "| End of training | test loss  7.28 | test ppl  1443.79\n",
            "=========================================================================================\n"
          ]
        }
      ],
      "source": [
        "test_loss = evaluate(model_2, test_loader)\n",
        "test_ppl = math.exp(test_loss)\n",
        "print('=' * 89)\n",
        "print(f'| End of training | test loss {test_loss:5.2f} | '\n",
        "      f'test ppl {test_ppl:8.2f}')\n",
        "print('=' * 89)"
      ]
    },
    {
      "cell_type": "code",
      "execution_count": 79,
      "metadata": {
        "colab": {
          "base_uri": "https://localhost:8080/",
          "height": 585
        },
        "id": "i-fnmNoWfiTW",
        "outputId": "47e8fcf8-9b84-4935-a66a-7d23e00542c0"
      },
      "outputs": [
        {
          "data": {
            "image/png": "[encoded data removed]",
            "text/plain": [
              "<Figure size 864x576 with 2 Axes>"
            ]
          },
          "metadata": {
            "needs_background": "light"
          },
          "output_type": "display_data"
        }
      ],
      "source": [
        "plot_hist(hist, name=\"improve_without_resources_hist_plot\")"
      ]
    },
    {
      "cell_type": "markdown",
      "metadata": {
        "id": "6mvg5FbFYsXe"
      },
      "source": []
    },
    {
      "cell_type": "markdown",
      "metadata": {
        "id": "dTw76RunCYDE"
      },
      "source": [
        "# 5- Improve the model without any restrictions. You can update architecture, hyper parameters etc."
      ]
    },
    {
      "cell_type": "markdown",
      "metadata": {
        "id": "K2xdIucVPUEK"
      },
      "source": [
        "What has been done:\n",
        "\n",
        "- Increased number of **Attention heads**\n",
        "- Expanded number of **hidden units** of Position-wise Feed-Forward Networks layers in transformers\n",
        "- Added more attention block **layes**\n",
        "- Increased **embedding size** of tokens\n",
        "\n",
        "\n",
        "Also, kept the data improvements from section 4"
      ]
    },
    {
      "cell_type": "code",
      "execution_count": 81,
      "metadata": {
        "id": "rdiKr5DRKtHm"
      },
      "outputs": [],
      "source": [
        "ntokens = len(vocab)  # size of vocabulary\n",
        "emsize = 512  # embedding dimension\n",
        "d_hid = 1024  # dimension of the feedforward network model in nn.TransformerEncoder\n",
        "nlayers = 4  # number of nn.TransformerEncoderLayer in nn.TransformerEncoder\n",
        "nhead = 8  # number of heads in nn.MultiheadAttention\n",
        "dropout = 0.15  # dropout probability\n",
        "model_3 = TransformerModel(ntokens, emsize, nhead, d_hid, nlayers, dropout).to(device)"
      ]
    },
    {
      "cell_type": "code",
      "execution_count": 82,
      "metadata": {
        "id": "EOMwiaotNAPj"
      },
      "outputs": [],
      "source": [
        "criterion = nn.CrossEntropyLoss(ignore_index= -100)\n",
        "lr = 0.01  # learning rate\n",
        "optimizer = torch.optim.SGD(model_3.parameters(), lr=lr, momentum=0.9)\n",
        "scheduler = torch.optim.lr_scheduler.StepLR(optimizer, 1, gamma=0.85)"
      ]
    },
    {
      "cell_type": "code",
      "execution_count": 83,
      "metadata": {
        "colab": {
          "base_uri": "https://localhost:8080/"
        },
        "id": "cBbWZwziNWlt",
        "outputId": "12538bc3-5146-43a0-a838-6ea6b54c7b9d"
      },
      "outputs": [
        {
          "name": "stdout",
          "output_type": "stream",
          "text": [
            "| epoch   1 |   200/  426 batches | lr 0.0100 | ms/batch 547.67 | loss  7.78 | ppl  2380.85\n",
            "| epoch   1 |   400/  426 batches | lr 0.0100 | ms/batch 543.67 | loss  7.53 | ppl  1857.87\n",
            "-----------------------------------------------------------------------------------------\n",
            "| end of epoch   1 | time: 243.61s | valid loss  6.90 | valid ppl   990.79\n",
            "-----------------------------------------------------------------------------------------\n",
            "| epoch   2 |   200/  426 batches | lr 0.0085 | ms/batch 545.14 | loss  7.16 | ppl  1291.30\n",
            "| epoch   2 |   400/  426 batches | lr 0.0085 | ms/batch 541.48 | loss  7.13 | ppl  1252.02\n",
            "-----------------------------------------------------------------------------------------\n",
            "| end of epoch   2 | time: 242.78s | valid loss  6.79 | valid ppl   889.87\n",
            "-----------------------------------------------------------------------------------------\n",
            "| epoch   3 |   200/  426 batches | lr 0.0072 | ms/batch 544.54 | loss  7.07 | ppl  1180.65\n",
            "| epoch   3 |   400/  426 batches | lr 0.0072 | ms/batch 541.64 | loss  7.07 | ppl  1177.90\n",
            "-----------------------------------------------------------------------------------------\n",
            "| end of epoch   3 | time: 242.54s | valid loss  6.77 | valid ppl   874.32\n",
            "-----------------------------------------------------------------------------------------\n",
            "| epoch   4 |   200/  426 batches | lr 0.0061 | ms/batch 544.29 | loss  7.04 | ppl  1136.75\n",
            "| epoch   4 |   400/  426 batches | lr 0.0061 | ms/batch 542.34 | loss  7.02 | ppl  1122.90\n",
            "-----------------------------------------------------------------------------------------\n",
            "| end of epoch   4 | time: 242.67s | valid loss  6.69 | valid ppl   805.39\n",
            "-----------------------------------------------------------------------------------------\n",
            "| epoch   5 |   200/  426 batches | lr 0.0052 | ms/batch 544.43 | loss  6.99 | ppl  1084.70\n",
            "| epoch   5 |   400/  426 batches | lr 0.0052 | ms/batch 542.46 | loss  6.99 | ppl  1084.75\n",
            "-----------------------------------------------------------------------------------------\n",
            "| end of epoch   5 | time: 242.73s | valid loss  6.71 | valid ppl   818.92\n",
            "-----------------------------------------------------------------------------------------\n",
            "| epoch   6 |   200/  426 batches | lr 0.0044 | ms/batch 545.39 | loss  6.97 | ppl  1063.33\n",
            "| epoch   6 |   400/  426 batches | lr 0.0044 | ms/batch 542.15 | loss  6.97 | ppl  1064.73\n",
            "-----------------------------------------------------------------------------------------\n",
            "| end of epoch   6 | time: 242.75s | valid loss  6.69 | valid ppl   806.18\n",
            "-----------------------------------------------------------------------------------------\n",
            "| epoch   7 |   200/  426 batches | lr 0.0038 | ms/batch 544.93 | loss  6.94 | ppl  1030.48\n",
            "| epoch   7 |   400/  426 batches | lr 0.0038 | ms/batch 542.16 | loss  6.95 | ppl  1041.50\n",
            "-----------------------------------------------------------------------------------------\n",
            "| end of epoch   7 | time: 242.74s | valid loss  6.69 | valid ppl   800.61\n",
            "-----------------------------------------------------------------------------------------\n",
            "| epoch   8 |   200/  426 batches | lr 0.0032 | ms/batch 544.13 | loss  6.93 | ppl  1020.33\n",
            "| epoch   8 |   400/  426 batches | lr 0.0032 | ms/batch 541.56 | loss  6.94 | ppl  1032.92\n",
            "-----------------------------------------------------------------------------------------\n",
            "| end of epoch   8 | time: 242.40s | valid loss  6.70 | valid ppl   811.45\n",
            "-----------------------------------------------------------------------------------------\n",
            "| epoch   9 |   200/  426 batches | lr 0.0027 | ms/batch 545.01 | loss  6.92 | ppl  1011.87\n",
            "| epoch   9 |   400/  426 batches | lr 0.0027 | ms/batch 541.09 | loss  6.93 | ppl  1020.64\n",
            "-----------------------------------------------------------------------------------------\n",
            "| end of epoch   9 | time: 242.60s | valid loss  6.69 | valid ppl   803.16\n",
            "-----------------------------------------------------------------------------------------\n",
            "| epoch  10 |   200/  426 batches | lr 0.0023 | ms/batch 544.36 | loss  6.95 | ppl  1044.78\n",
            "| epoch  10 |   400/  426 batches | lr 0.0023 | ms/batch 541.31 | loss  6.94 | ppl  1034.29\n",
            "-----------------------------------------------------------------------------------------\n",
            "| end of epoch  10 | time: 242.43s | valid loss  6.67 | valid ppl   790.28\n",
            "-----------------------------------------------------------------------------------------\n"
          ]
        }
      ],
      "source": [
        "best_val_loss = float('inf')\n",
        "epochs = 10\n",
        "\n",
        "hist = {\n",
        "    \"loss\":{\n",
        "        \"train\":[],\n",
        "        \"val\":[]\n",
        "    },\n",
        "    \"perplexity\":{\n",
        "        \"train\":[],\n",
        "        \"val\":[]\n",
        "    }\n",
        "}                              \n",
        "with TemporaryDirectory() as tempdir:\n",
        "    best_model3_params_path = os.path.join(tempdir, \"best_model3_params.pt\")\n",
        "\n",
        "    for epoch in range(1, epochs + 1):\n",
        "        epoch_start_time = time.time()\n",
        "        train_loss = train(model_3)\n",
        "        val_loss = evaluate(model_3, valid_loader)\n",
        "        train_ppl = math.exp(train_loss)\n",
        "        val_ppl = math.exp(val_loss)\n",
        "\n",
        "        hist[\"loss\"][\"train\"].append(train_loss)\n",
        "        hist[\"loss\"][\"val\"].append(val_loss)\n",
        "        hist[\"perplexity\"][\"train\"].append(train_ppl)\n",
        "        hist[\"perplexity\"][\"val\"].append(val_ppl)\n",
        "        \n",
        "        elapsed = time.time() - epoch_start_time\n",
        "        print('-' * 89)\n",
        "        print(f'| end of epoch {epoch:3d} | time: {elapsed:5.2f}s | '\n",
        "            f'valid loss {val_loss:5.2f} | valid ppl {val_ppl:8.2f}')\n",
        "        print('-' * 89)\n",
        "\n",
        "        if val_loss < best_val_loss:\n",
        "            best_val_loss = val_loss\n",
        "            torch.save(model_3.state_dict(), best_model3_params_path)\n",
        "\n",
        "        scheduler.step()\n",
        "    model_3.load_state_dict(torch.load(best_model3_params_path)) # load best model states"
      ]
    },
    {
      "cell_type": "code",
      "execution_count": 84,
      "metadata": {
        "colab": {
          "base_uri": "https://localhost:8080/"
        },
        "id": "tiyFr0g2yvze",
        "outputId": "f85a7a58-7434-4e25-ef5a-dcdec09c79b4"
      },
      "outputs": [
        {
          "name": "stdout",
          "output_type": "stream",
          "text": [
            "=========================================================================================\n",
            "| End of training | test loss  6.59 | test ppl   725.42\n",
            "=========================================================================================\n"
          ]
        }
      ],
      "source": [
        "test_loss = evaluate(model_3, test_loader)\n",
        "test_ppl = math.exp(test_loss)\n",
        "print('=' * 89)\n",
        "print(f'| End of training | test loss {test_loss:5.2f} | '\n",
        "      f'test ppl {test_ppl:8.2f}')\n",
        "print('=' * 89)"
      ]
    },
    {
      "cell_type": "code",
      "execution_count": 86,
      "metadata": {
        "colab": {
          "base_uri": "https://localhost:8080/",
          "height": 585
        },
        "id": "TexFS9b_EfFf",
        "outputId": "fdd61549-8572-4a73-ba01-bbed6f575768"
      },
      "outputs": [
        {
          "data": {
            "image/png": "[encoded data removed]",
            "text/plain": [
              "<Figure size 864x576 with 2 Axes>"
            ]
          },
          "metadata": {
            "needs_background": "light"
          },
          "output_type": "display_data"
        }
      ],
      "source": [
        "plot_hist(hist, name=\"improve_with_resources_hist_plot\")"
      ]
    },
    {
      "cell_type": "code",
      "execution_count": 85,
      "metadata": {
        "id": "Fi5R6KD0NjTp"
      },
      "outputs": [],
      "source": [
        "if torch.cuda.is_available():\n",
        "    torch.cuda.empty_cache()"
      ]
    },
    {
      "cell_type": "code",
      "execution_count": null,
      "metadata": {
        "id": "uWF4DHMxq6-u"
      },
      "outputs": [],
      "source": []
    }
  ],
  "metadata": {
    "accelerator": "GPU",
    "colab": {
      "provenance": []
    },
    "gpuClass": "standard",
    "kernelspec": {
      "display_name": "Python 3",
      "language": "python",
      "name": "python3"
    },
    "language_info": {
      "codemirror_mode": {
        "name": "ipython",
        "version": 3
      },
      "file_extension": ".py",
      "mimetype": "text/x-python",
      "name": "python",
      "nbconvert_exporter": "python",
      "pygments_lexer": "ipython3",
      "version": "3.10.9"
    }
  },
  "nbformat": 4,
  "nbformat_minor": 0
}
